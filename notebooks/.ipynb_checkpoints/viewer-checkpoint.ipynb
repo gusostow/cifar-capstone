{
 "cells": [
  {
   "cell_type": "code",
   "execution_count": 38,
   "metadata": {
    "collapsed": false
   },
   "outputs": [],
   "source": [
    "import json\n",
    "import pandas as pd\n",
    "import numpy as np\n",
    "import ast\n",
    "from keras.datasets import cifar10\n",
    "from scipy import signal\n",
    "from scipy.ndimage import imread\n",
    "\n",
    "from matplotlib import pyplot as plt \n",
    "%matplotlib inline"
   ]
  },
  {
   "cell_type": "code",
   "execution_count": 147,
   "metadata": {
    "collapsed": false
   },
   "outputs": [
    {
     "data": {
      "text/plain": [
       "<matplotlib.image.AxesImage at 0x12c5a9ed0>"
      ]
     },
     "execution_count": 147,
     "metadata": {},
     "output_type": "execute_result"
    },
    {
     "data": {
      "image/png": "[encoded data removed]",
      "text/plain": [
       "<matplotlib.figure.Figure at 0x12a793c50>"
      ]
     },
     "metadata": {},
     "output_type": "display_data"
    }
   ],
   "source": [
    "S = imread(\"U9IsW.jpg\", flatten=True)\n",
    "S.astype(\"float64\")\n",
    "S = scipy.misc.imresize(S, (32, 32))\n",
    "\n",
    "#S /= 255.0\n",
    "plt.axis('off')\n",
    "plt.imshow(S, cmap =\"Greys\")\n"
   ]
  },
  {
   "cell_type": "code",
   "execution_count": 164,
   "metadata": {
    "collapsed": false,
    "scrolled": true
   },
   "outputs": [
    {
     "data": {
      "text/plain": [
       "<matplotlib.image.AxesImage at 0x12ef84610>"
      ]
     },
     "execution_count": 164,
     "metadata": {},
     "output_type": "execute_result"
    },
    {
     "data": {
      "image/png": "[encoded data removed]",
      "text/plain": [
       "<matplotlib.figure.Figure at 0x12ef84410>"
      ]
     },
     "metadata": {},
     "output_type": "display_data"
    }
   ],
   "source": [
    "vertical = np.array([[-1, -1, 0, 1,  1], \n",
    "                     [-1, -1, 0, 1,  1], \n",
    "                     [-1, -1, 0, 1,  1],\n",
    "                    [-1, -1, 0, 1,  1],\n",
    "                    [-1, -1, 0, 1,  1]])\n",
    "\n",
    "horizontal = np.rot90(vertical)\n",
    "\n",
    "diagonal1 = np.array([[-1, -1, -1, -1, 0], \n",
    "                     [-1, -1, -1, 0, 1], \n",
    "                     [-1, -1, 0, 1, 1],\n",
    "                     [-1, 0, 1, 1, 1],\n",
    "                     [0, 1, 1, 1, 1]])\n",
    "\n",
    "diagonal2 = np.rot90(diagonal1)\n",
    "\n",
    "plt.axis('off')\n",
    "plt.imshow(horizontal, interpolation=\"nearest\", cmap = \"Greys\")"
   ]
  },
  {
   "cell_type": "code",
   "execution_count": 171,
   "metadata": {
    "collapsed": false
   },
   "outputs": [
    {
     "data": {
      "text/plain": [
       "<matplotlib.image.AxesImage at 0x12f5e3750>"
      ]
     },
     "execution_count": 171,
     "metadata": {},
     "output_type": "execute_result"
    },
    {
     "data": {
      "image/png": "[encoded data removed]",
      "text/plain": [
       "<matplotlib.figure.Figure at 0x12f5e3d10>"
      ]
     },
     "metadata": {},
     "output_type": "display_data"
    }
   ],
   "source": [
    "plt.axis(\"off\")\n",
    "plt.imshow(diagonal2, interpolation=\"nearest\", cmap = \"Greys\")"
   ]
  },
  {
   "cell_type": "code",
   "execution_count": 170,
   "metadata": {
    "collapsed": false
   },
   "outputs": [
    {
     "name": "stdout",
     "output_type": "stream",
     "text": [
      "(32, 32)\n",
      "(5, 5)\n"
     ]
    },
    {
     "data": {
      "text/plain": [
       "<matplotlib.image.AxesImage at 0x12f9a8f90>"
      ]
     },
     "execution_count": 170,
     "metadata": {},
     "output_type": "execute_result"
    },
    {
     "data": {
      "image/png": "[encoded data removed]",
      "text/plain": [
       "<matplotlib.figure.Figure at 0x12f9a8f10>"
      ]
     },
     "metadata": {},
     "output_type": "display_data"
    }
   ],
   "source": [
    "filt = np.array([[1 ,-1]])\n",
    "\n",
    "print S.shape\n",
    "print vertical.shape\n",
    "fmap_vert = signal.convolve2d(S, vertical, mode = \"same\")\n",
    "fmap_hor = signal.convolve2d(S, horizonal, mode = \"same\")\n",
    "fmap_diag1 = signal.convolve2d(S, diagonal1, mode = \"same\")\n",
    "fmap_diag2 = signal.convolve2d(S, diagonal2, mode = \"same\")\n",
    "\n",
    "plt.axis(\"off\")\n",
    "plt.imshow(fmap_diag2, cmap = \"Greys\", vmin = 30, vmax =500)\n",
    "\n"
   ]
  },
  {
   "cell_type": "code",
   "execution_count": 158,
   "metadata": {
    "collapsed": false
   },
   "outputs": [
    {
     "data": {
      "text/plain": [
       "<matplotlib.image.AxesImage at 0x12eade390>"
      ]
     },
     "execution_count": 158,
     "metadata": {},
     "output_type": "execute_result"
    },
    {
     "data": {
      "image/png": "[encoded data removed]",
      "text/plain": [
       "<matplotlib.figure.Figure at 0x12e9b8810>"
      ]
     },
     "metadata": {},
     "output_type": "display_data"
    }
   ],
   "source": [
    "plt.imshow(np.maximum(fmap_vert, 0), cmap = \"Greys\", vmin = 30, vmax =500)"
   ]
  },
  {
   "cell_type": "code",
   "execution_count": 222,
   "metadata": {
    "collapsed": false
   },
   "outputs": [
    {
     "data": {
      "text/plain": [
       "array([1, 1])"
      ]
     },
     "execution_count": 222,
     "metadata": {},
     "output_type": "execute_result"
    }
   ],
   "source": [
    "h_indices = range(0,32,2)\n",
    "v_indices = range(0,32,2)\n",
    "\n",
    "np.array([[1, 2], [1,2]])[:, 0]"
   ]
  },
  {
   "cell_type": "code",
   "execution_count": 216,
   "metadata": {
    "code_folding": [],
    "collapsed": false
   },
   "outputs": [
    {
     "name": "stdout",
     "output_type": "stream",
     "text": [
      "(32, 32)\n",
      "2 2\n"
     ]
    },
    {
     "data": {
      "image/png": "[encoded data removed]",
      "text/plain": [
       "<matplotlib.figure.Figure at 0x131717090>"
      ]
     },
     "metadata": {},
     "output_type": "display_data"
    }
   ],
   "source": [
    "plt.imshow(np.maximum(fmap_vert, 0), cmap = \"Greys\", vmin = 30, vmax = 500)\n",
    "\n",
    "print fmap_vert.shape\n",
    "\n",
    "#for region in fmap_vert.shape :\n",
    "\n",
    "    \n",
    "def maxpool(array, shape = (2,2), stride = 2):\n",
    "    hpad = (array.shape[0] - shape[0]) % stride\n",
    "    vpad = (array.shape[1] - shape[1]) % stride\n",
    "    padded_array = array\n",
    "    side = \"L\"\n",
    "    for column in range(hpad):\n",
    "        if side == \"L\":\n",
    "            padded_array = np.hstack((np.zeros((padded_array.shape[0], 1)), padded_array))\n",
    "            side = \"R\"\n",
    "        elif side == \"R\":\n",
    "            padded_array = np.hstack((padded_array, np.zeros((padded_array.shape[0], 1))))\n",
    "\n",
    "    side = \"T\"\n",
    "    for column in range(vpad):\n",
    "        if side == \"T\":\n",
    "            padded_array = np.vstack((np.zeros((1,padded_array.shape[1])), padded_array))\n",
    "            side = \"B\"\n",
    "        elif side == \"B\":\n",
    "            padded_array = np.vstack((padded_array, np.zeros((1,padded_array.shape[1]))))\n",
    "    \n",
    "    h_indices = range(0, padded_array.shape[1], stride)\n",
    "    v_indices = range(0, padded_array.shape[0], stride)\n",
    "    indices = [(v_index, h_index) for v_index in v_indices for h_index in h_indices]\n",
    "    \n",
    "    for h_index in h_indices:\n",
    "        for v_index in v_indices:\n",
    "            \n",
    "    \n",
    "maxpool(fmap_vert, shape = (3,3), stride = 3)"
   ]
  },
  {
   "cell_type": "code",
   "execution_count": null,
   "metadata": {
    "collapsed": true
   },
   "outputs": [],
   "source": [
    "def maxdownsample2d(data, factor):\n",
    "         \"\"\"Supply a 2D numpy array, and an integer factor by which to\n",
    " downsample (by nonoverlapping maxpooling) in both directions\"\"\"\n",
    "        # factor might not be exact fit, so we trim to this.\n",
    "        trimrows = int(np.floor(data.shape[0] / float(factor))) * factor\n",
    "        trimcols = int(np.floor(data.shape[1] / float(factor))) * factor\n",
    "        first = True\n",
    "        for coff in range(factor):\n",
    "            for roff in range(factor):\n",
    "                hopped = data[roff:trimrows:factor, coff:trimcols:factor]\n",
    "                    if first:\n",
    "                         maxsofar = hopped\n",
    "                                 first = False\n",
    "             else:\n",
    "                                 maxsofar = np.maximum(maxsofar, hopped)\n",
    "         return maxsofar"
   ]
  },
  {
   "cell_type": "code",
   "execution_count": 236,
   "metadata": {
    "collapsed": true
   },
   "outputs": [],
   "source": [
    "def maxpool(array, stride):\n",
    "    \"\"\"\n",
    "    Maxpooling operation\n",
    "    Assumes kernel size is square and the same size as stride\n",
    "    \"\"\"\n",
    "    hpad = (array.shape[0] - shape[0]) % stride\n",
    "    vpad = (array.shape[1] - shape[1]) % stride\n",
    "    padded_array = array\n",
    "    side = \"L\"\n",
    "    for column in range(hpad):\n",
    "        if side == \"L\":\n",
    "            padded_array = np.hstack((np.zeros((padded_array.shape[0], 1)), padded_array))\n",
    "            side = \"R\"\n",
    "        elif side == \"R\":\n",
    "            padded_array = np.hstack((padded_array, np.zeros((padded_array.shape[0], 1))))\n",
    "    side = \"T\"\n",
    "    for column in range(vpad):\n",
    "        if side == \"T\":\n",
    "            padded_array = np.vstack((np.zeros((1,padded_array.shape[1])), padded_array))\n",
    "            side = \"B\"\n",
    "        elif side == \"B\":\n",
    "            padded_array = np.vstack((padded_array, np.zeros((1,padded_array.shape[1]))))\n",
    "    \n",
    "    h = padded_array[0] / stride\n",
    "    w = padded_array[1] / stride\n",
    "    output = np.empty((h,w))\n",
    "    \n",
    "    first = True\n",
    "    for i in range(stride):\n",
    "        for z in range(stride):\n",
    "            shifted = tester[i:tester.shape[0]:2, z:tester.shape[1]:2]\n",
    "            if first:\n",
    "                maxsofar = shifted\n",
    "                first = False\n",
    "            else:\n",
    "                maxsofar = np.maximum(maxsofar, shifted)\n",
    "    return maxsofar"
   ]
  },
  {
   "cell_type": "code",
   "execution_count": null,
   "metadata": {
    "collapsed": false
   },
   "outputs": [],
   "source": []
  },
  {
   "cell_type": "code",
   "execution_count": 166,
   "metadata": {
    "collapsed": false
   },
   "outputs": [
    {
     "data": {
      "text/plain": [
       "<matplotlib.image.AxesImage at 0x12f3250d0>"
      ]
     },
     "execution_count": 166,
     "metadata": {},
     "output_type": "execute_result"
    },
    {
     "data": {
      "image/png": "[encoded data removed]",
      "text/plain": [
       "<matplotlib.figure.Figure at 0x12f325110>"
      ]
     },
     "metadata": {},
     "output_type": "display_data"
    }
   ],
   "source": [
    "plt.axis(\"off\")\n",
    "plt.imshow(np.maximum(fmap_hor, 0), cmap = \"Greys\", vmin = 30, vmax =500)"
   ]
  },
  {
   "cell_type": "code",
   "execution_count": null,
   "metadata": {
    "collapsed": true
   },
   "outputs": [],
   "source": []
  },
  {
   "cell_type": "code",
   "execution_count": null,
   "metadata": {
    "collapsed": true
   },
   "outputs": [],
   "source": []
  },
  {
   "cell_type": "code",
   "execution_count": null,
   "metadata": {
    "collapsed": true
   },
   "outputs": [],
   "source": []
  }
 ],
 "metadata": {
  "anaconda-cloud": {},
  "kernelspec": {
   "display_name": "Python [keras]",
   "language": "python",
   "name": "Python [keras]"
  },
  "language_info": {
   "codemirror_mode": {
    "name": "ipython",
    "version": 2
   },
   "file_extension": ".py",
   "mimetype": "text/x-python",
   "name": "python",
   "nbconvert_exporter": "python",
   "pygments_lexer": "ipython2",
   "version": "2.7.12"
  }
 },
 "nbformat": 4,
 "nbformat_minor": 0
}
