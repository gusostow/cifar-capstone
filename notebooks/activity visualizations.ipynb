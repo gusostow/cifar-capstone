{
 "cells": [
  {
   "cell_type": "code",
   "execution_count": 9,
   "metadata": {
    "collapsed": false
   },
   "outputs": [],
   "source": [
    "#from __future__ import print_function\n",
    "from scipy.misc import imsave\n",
    "import numpy as np\n",
    "import time\n",
    "from keras import backend as K\n",
    "\n",
    "from keras.models import model_from_json\n",
    "import json"
   ]
  },
  {
   "cell_type": "code",
   "execution_count": 25,
   "metadata": {
    "collapsed": false
   },
   "outputs": [],
   "source": [
    "#load model\n",
    "path = \"/Users/augustus/python/CIFAR/models/vgg2_4.json\"\n",
    "json_object = open(path, \"r\")\n",
    "loaded_json = json.loads(json_object.read())\n",
    "json_object.close()"
   ]
  },
  {
   "cell_type": "code",
   "execution_count": 30,
   "metadata": {
    "collapsed": false
   },
   "outputs": [],
   "source": [
    "#load weights\n",
    "model = model_from_json(loaded_json)\n",
    "weights_path = \"/Users/augustus/python/CIFAR/weights/vgg2_4_{val_acc:.2f}.hdf5\"\n",
    "model.load_weights(weights_path)"
   ]
  },
  {
   "cell_type": "code",
   "execution_count": 35,
   "metadata": {
    "collapsed": false
   },
   "outputs": [
    {
     "data": {
      "text/plain": [
       "{'W_constraint': None,\n",
       " 'W_regularizer': None,\n",
       " 'activation': 'linear',\n",
       " 'activity_regularizer': None,\n",
       " 'b_constraint': None,\n",
       " 'b_regularizer': None,\n",
       " 'bias': True,\n",
       " 'border_mode': u'valid',\n",
       " 'dim_ordering': u'tf',\n",
       " 'init': 'glorot_uniform',\n",
       " 'name': u'convolution2d_1',\n",
       " 'nb_col': 3,\n",
       " 'nb_filter': 64,\n",
       " 'nb_row': 3,\n",
       " 'subsample': (1, 1),\n",
       " 'trainable': True}"
      ]
     },
     "execution_count": 35,
     "metadata": {},
     "output_type": "execute_result"
    }
   ],
   "source": [
    "model.layers[1].get_config()"
   ]
  },
  {
   "cell_type": "code",
   "execution_count": null,
   "metadata": {
    "collapsed": true
   },
   "outputs": [],
   "source": []
  }
 ],
 "metadata": {
  "kernelspec": {
   "display_name": "Python [keras]",
   "language": "python",
   "name": "Python [keras]"
  },
  "language_info": {
   "codemirror_mode": {
    "name": "ipython",
    "version": 2
   },
   "file_extension": ".py",
   "mimetype": "text/x-python",
   "name": "python",
   "nbconvert_exporter": "python",
   "pygments_lexer": "ipython2",
   "version": "2.7.12"
  }
 },
 "nbformat": 4,
 "nbformat_minor": 0
}
